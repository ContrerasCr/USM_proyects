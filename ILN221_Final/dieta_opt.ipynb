{
  "nbformat": 4,
  "nbformat_minor": 0,
  "metadata": {
    "colab": {
      "name": "Untitled2.ipynb",
      "provenance": [],
      "collapsed_sections": []
    },
    "kernelspec": {
      "name": "python3",
      "display_name": "Python 3"
    },
    "accelerator": "GPU"
  },
  "cells": [
    {
      "cell_type": "code",
      "metadata": {
        "id": "t5XVzcGphna_"
      },
      "source": [
        "import numpy as np\r\n",
        "import time"
      ],
      "execution_count": 1,
      "outputs": []
    },
    {
      "cell_type": "code",
      "metadata": {
        "id": "kn5sInt_ht7W"
      },
      "source": [
        "# Values\r\n",
        "startttt = time.time()\r\n",
        "max_alimentos = 60\r\n",
        "allt_values = [[a, b, c, d, e] for a in range(max_alimentos) for b in range(max_alimentos) for c in range(max_alimentos) for d in range(max_alimentos) for e in range(max_alimentos)]\r\n",
        "\r\n",
        "print(time.time()-startttt)"
      ],
      "execution_count": null,
      "outputs": []
    },
    {
      "cell_type": "code",
      "metadata": {
        "id": "WxjLH8nKhsVO"
      },
      "source": [
        "'''\r\n",
        "def dieta_optima(dieta_opt, all_values, alpha_esperado):\r\n",
        "    start = time.time()\r\n",
        "    # alpha_esperado = Valor al cual se busca que se acerque el factor que mejora el crecimiento de la poblacion\r\n",
        "    # max_alimentos = Cantidad maxima de un alimento que puede comer una persona en un dia [int]\r\n",
        "    # dieta_optima = dieta a la cual se va a modelar el problema [lista de 7 valores]\r\n",
        "    # Mejores alimentos Nuez, Almendra, Papa cocida, Espinaca, Pimiento Rojo\r\n",
        "    array_dieta_optima = np.array(dieta_opt)\r\n",
        "    valor_ideal = [5, 0,  (0, 0, 0, 0, 0)]\r\n",
        "    # Valor ideal[0] = Valor que se busca minimizar\r\n",
        "    # Valor ideal[1] = Valor que se busca minimizar agua\r\n",
        "\r\n",
        "    matriz_best_alimentos = np.array([[649.00, 14.42, 4.40, 87.10, 2.80, 0.00, 2.60],\r\n",
        "                                      [589.00, 19.13, 6.20, 248.25, 3.59, 0.00, 0.00],\r\n",
        "                                      [73.59, 2.34, 14.80, 6.40, 0.43, 0.09, 17.00],\r\n",
        "                                      [20.74, 2.63, 0.61, 117.00, 2.70, 0.59, 40.00],\r\n",
        "                                      [32.90, 1.25, 4.20, 11.89, 0.37, 0.54, 138.73]])\r\n",
        "\r\n",
        "    matriz_best_al_water = np.array([[201, 226, 100, 112, 48]])\r\n",
        "\r\n",
        "    for values in all_values:\r\n",
        "        vector_cant_alim = np.transpose(np.array([values])/10)\r\n",
        "        matriz_total = vector_cant_alim * matriz_best_alimentos\r\n",
        "        vector_total = matriz_total.sum(axis=0)\r\n",
        "        relacion = vector_total / array_dieta_optima\r\n",
        "        gradiante_nut = pow((relacion[0] * relacion[1] * relacion[2] * relacion[3] * relacion[4] * relacion[5] * relacion[6]) , (1/10))\r\n",
        "        gradiante = abs(alpha_esperado-gradiante_nut)\r\n",
        "        vect_agua = int(matriz_best_al_water @ vector_cant_alim)\r\n",
        "        raz_nt_ag = gradiante_nut / vect_agua\r\n",
        "      \r\n",
        "        if (gradiante_nut > 1) and (all(i > 0.6 for i in list(relacion))): # \r\n",
        "            valor_ideal = [gradiante_nut, vect_agua, vector_cant_alim]\r\n",
        "            print(valor_ideal)\r\n",
        "            \r\n",
        "\r\n",
        "            #print(time.time()-start)\r\n",
        "        else:\r\n",
        "            continue\r\n",
        "\r\n",
        "    print(valor_ideal)\r\n",
        "    print(time.time()-start)\r\n",
        "    return valor_ideal'''"
      ],
      "execution_count": null,
      "outputs": []
    },
    {
      "cell_type": "code",
      "metadata": {
        "id": "YZ0wMOh8VyEq"
      },
      "source": [
        "def dieta_optima(max_alimentos, dieta_opt,all_values, alpha):\r\n",
        "    start = time.time()\r\n",
        "    # max_alimentos = Cantidad maxima de un alimento que puede comer una persona en un dia [int]\r\n",
        "    # dieta_optima = dieta a la cual se va a modelar el problema [lista de 7 valores]\r\n",
        "    # Mejores alimentos Nuez, Almendra, Papa cocida, Espinaca, Pimiento Rojo\r\n",
        "    max_alimentos = max_alimentos * 10\r\n",
        "    array_dieta_optima = np.array(dieta_opt)\r\n",
        "    valor_ideal = [5, (0, 0, 0, 0, 0)]\r\n",
        "    # Valor ideal[0] = Valor que se busca minimizar\r\n",
        "\r\n",
        "    matriz_best_alimentos = np.array([[649.00, 14.42, 4.40, 87.10, 2.80, 0.00, 2.60],\r\n",
        "                                      [589.00, 19.13, 6.20, 248.25, 3.59, 0.00, 0.00],\r\n",
        "                                      [73.59, 2.34, 14.80, 6.40, 0.43, 0.09, 17.00],\r\n",
        "                                      [20.74, 2.63, 0.61, 117.00, 2.70, 0.59, 40.00],\r\n",
        "                                      [32.90, 1.25, 4.20, 11.89, 0.37, 0.54, 138.73]])\r\n",
        "\r\n",
        "    for values in all_values:\r\n",
        "        vector_cant_alim = np.transpose(np.array([values])/10)\r\n",
        "        matriz_total = vector_cant_alim * matriz_best_alimentos\r\n",
        "        vector_total = matriz_total.sum(axis=0)\r\n",
        "        relacion = vector_total / array_dieta_optima\r\n",
        "        normalizar = relacion * (1/7)\r\n",
        "        lista_normalizada = list(normalizar)\r\n",
        "        optimizador = sum(lista_normalizada)\r\n",
        "        gradiante = abs(alpha-optimizador)\r\n",
        "\r\n",
        "        if gradiante < valor_ideal[0]:\r\n",
        "            valor_ideal = [gradiante, values]\r\n",
        "        else:\r\n",
        "            pass\r\n",
        "\r\n",
        "    print(valor_ideal)\r\n",
        "    print(time.time()-start)\r\n",
        "    return valor_ideal\r\n"
      ],
      "execution_count": null,
      "outputs": []
    },
    {
      "cell_type": "code",
      "metadata": {
        "id": "XPJZkctWh2Jl"
      },
      "source": [
        "# Dieta optima Hombre 0-14\r\n",
        "dieta_optima(3, [1500, 33, 188, 800, 8, 0.6, 90], allt_values, 1.1)"
      ],
      "execution_count": null,
      "outputs": []
    },
    {
      "cell_type": "code",
      "metadata": {
        "id": "-de9qXkddxSs"
      },
      "source": [
        "# Dieta optima Hombre 15-64\r\n",
        "dieta_optima(3, [2600, 79, 325, 1100, 8, 0.9, 90], allt_values, 1.1)"
      ],
      "execution_count": null,
      "outputs": []
    },
    {
      "cell_type": "code",
      "metadata": {
        "id": "jT35HmsFguUi"
      },
      "source": [
        "# Dieta optima Hombre 64+\r\n",
        "dieta_optima(3, [2300, 68, 288, 1300, 8, 0.9, 90], allt_values, 1.1)"
      ],
      "execution_count": null,
      "outputs": []
    },
    {
      "cell_type": "code",
      "metadata": {
        "id": "ZJ157XGng2Py"
      },
      "source": [
        "# Dieta optima Mujer 0-14\r\n",
        "dieta_optima(3, [1450, 42, 181, 800, 18, 0.6, 75], allt_values, 1.1)"
      ],
      "execution_count": null,
      "outputs": []
    },
    {
      "cell_type": "code",
      "metadata": {
        "id": "JLLY_eTqg2h7"
      },
      "source": [
        "# Dieta optima Mujer 15-64\r\n",
        "dieta_optima(3, [2050, 69, 256, 1100, 18, 0.7, 75], allt_values, 1.1)"
      ],
      "execution_count": null,
      "outputs": []
    },
    {
      "cell_type": "code",
      "metadata": {
        "id": "3MakVcGNg20s"
      },
      "source": [
        "# Dieta optima Mujer 64+\r\n",
        "dieta_optima(3, [1800, 60, 225, 1300, 8, 0.7, 75], allt_values, 1.1)"
      ],
      "execution_count": null,
      "outputs": []
    }
  ]
}